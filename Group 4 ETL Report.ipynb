{
 "cells": [
  {
   "cell_type": "markdown",
   "metadata": {},
   "source": [
    "# Project Report \n",
    "---------------------------------------\n",
    "## Extract\n",
    "\n",
    "#### Data Sources:<br>\n",
    "* all data sources are csv file format. \n",
    "\n",
    "1. \"120 years of Olympic History\"<br>\n",
    "https://www.kaggle.com/heesoo37/120-years-of-olympic-history-athletes-and-results<br>\n",
    "\n",
    "2. \"NOC Regions\"<br>\n",
    "https://www.kaggle.com/heesoo37/120-years-of-olympic-history-athletes-and-results<br>\n",
    "\n",
    "\n",
    "3. \"Country Socioeconomic Status Scores: 1880-2010\"\n",
    "https://www.kaggle.com/sdorius/globses\n",
    "\n",
    "## Transform <br> \n",
    "\n",
    "The task was to create a database from separte databases that would be used to analyse historical olympic successes across countries compared with a time series economic and education measures.\n",
    "\n",
    "We completed the following data cleaning activities \n",
    "\n",
    "* Removed unnecessary columns from data source 1 and 3  not relevant to the researchers data request. \n",
    "\n",
    "* Dropped null values from data source 1 set so that it represented only countries that only won metals. \n",
    "\n",
    "* Checked that National Olympic Committe (NOC) country code in data set 1 matches the World Bank ID (WBID) country code in data set 3.  This would provide a field that can be used to join the production tables.  \n",
    "\n",
    "* Merged data set 1 and 2 so that the National Olympic Committe (NOC) field in the Olympic data was paired with it's corresponding country name. \n",
    "\n",
    " \n",
    "\n",
    "## Load <br>\n",
    "\n",
    "* Creating a relational database in PostGres, we loaded two tables, athlete_events and country_ses:<br>\n",
    "<br>\n",
    "\n",
    "    * **athlete_events**: Represents 120 years of of olymic results.  This data transformed to only include medal winners.  The table includes the country (code and name), year and season in which the olympics took place, sport type and specific event.  It also includes which metal type the country won for that event.<br>\n",
    "    * **country_ses** : Is a time seriese displaying socio-economic ratings across countries over the past from 1880 to 2010. Country data points are reported in ten year increments.  The SES field represent a composit score of GDP and education measures and reported as a integer (1-99), the higher the score the greater the socio-economic status. This table also contains a measure of the GDP per capita. <br>\n",
    "<br>\n",
    "\n",
    "* These tables were created because it will allow the users to slice and filter historical olympic performance by country and compare them with historical SES and GDP by year. \n",
    "\n",
    "\n"
   ]
  },
  {
   "cell_type": "code",
   "execution_count": null,
   "metadata": {},
   "outputs": [],
   "source": []
  }
 ],
 "metadata": {
  "kernelspec": {
   "display_name": "Python 3",
   "language": "python",
   "name": "python3"
  },
  "language_info": {
   "codemirror_mode": {
    "name": "ipython",
    "version": 3
   },
   "file_extension": ".py",
   "mimetype": "text/x-python",
   "name": "python",
   "nbconvert_exporter": "python",
   "pygments_lexer": "ipython3",
   "version": "3.7.3"
  }
 },
 "nbformat": 4,
 "nbformat_minor": 2
}
